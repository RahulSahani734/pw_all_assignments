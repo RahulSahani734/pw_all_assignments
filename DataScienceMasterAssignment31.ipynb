{
 "cells": [
  {
   "cell_type": "markdown",
   "metadata": {
    "id": "oVELsX2TwjMw"
   },
   "source": [
    "### Q1: What is Estimation Statistics? Explain point estimate and interval estimate.\n",
    "\n",
    "Estimation statistics is a branch of statistics that deals with the estimation of population parameters from sample data. A point estimate is a single value estimate of a population parameter. For example, the sample mean is a point estimate of the population mean. An interval estimate is a range of values that is likely to contain the true value of the population parameter. For example, a 95% confidence interval for the population mean is an interval that is likely to contain the true population mean with 95% confidence."
   ]
  },
  {
   "cell_type": "code",
   "execution_count": null,
   "metadata": {
    "id": "2gmtQQg5wayc"
   },
   "outputs": [],
   "source": []
  },
  {
   "cell_type": "markdown",
   "metadata": {
    "id": "WaescVyXwqZ8"
   },
   "source": [
    "### Q2. Write a Python function to estimate the population mean using a sample mean and standard deviation."
   ]
  },
  {
   "cell_type": "code",
   "execution_count": 1,
   "metadata": {
    "id": "t2vRa4gIwwGD"
   },
   "outputs": [],
   "source": [
    "def estimate_population_mean(sample_mean, sample_std):\n",
    "  \"\"\"\n",
    "  Estimate the population mean using a sample mean and standard deviation.\n",
    "\n",
    "  Args:\n",
    "    sample_mean: The sample mean.\n",
    "    sample_std: The sample standard deviation.\n",
    "\n",
    "  Returns:\n",
    "    The estimated population mean.\n",
    "  \"\"\"\n",
    "\n",
    "  estimated_mean = sample_mean + sample_std * 1.96\n",
    "  return estimated_mean\n"
   ]
  },
  {
   "cell_type": "code",
   "execution_count": null,
   "metadata": {
    "id": "mY64eaJ7wx1-"
   },
   "outputs": [],
   "source": []
  },
  {
   "cell_type": "markdown",
   "metadata": {
    "id": "Eob0HCNPw3ja"
   },
   "source": [
    "### Q3: What is Hypothesis testing? Why is it used? State the importance of Hypothesis testing.\n",
    "\n",
    "Hypothesis testing is a statistical method used to test the validity of an hypothesis about a population parameter. An hypothesis is a statement about a population parameter that we want to test. For example, we might hypothesize that the average weight of male college students is greater than the average weight of female college students.\n",
    "\n",
    "Hypothesis testing is used to determine whether there is enough evidence to reject the hypothesis. If we reject the hypothesis, then we can conclude that the data is inconsistent with the hypothesis. Otherwise, we cannot conclude that the hypothesis is false.\n",
    "\n",
    "Hypothesis testing is an important tool for making decisions in many different fields, such as science, medicine, and business. It can be used to test the effectiveness of new treatments, to make predictions about future events, and to make decisions about how to allocate resources."
   ]
  },
  {
   "cell_type": "code",
   "execution_count": null,
   "metadata": {
    "id": "JhcfK2hvw5qg"
   },
   "outputs": [],
   "source": []
  },
  {
   "cell_type": "markdown",
   "metadata": {
    "id": "s0Ly9f7gw9ej"
   },
   "source": [
    "### Q4. Create a hypothesis that states whether the average weight of male college students is greater than\n",
    "### the average weight of female college students.\n",
    "\n",
    "The following is a hypothesis that states whether the average weight of male college students is greater than the average weight of female college students:\n",
    "\n",
    "Null hypothesis: The average weight of male college students is equal to the average weight of female college students.\n",
    "\n",
    "Alternative hypothesis: The average weight of male college students is greater than the average weight of female college students."
   ]
  },
  {
   "cell_type": "code",
   "execution_count": null,
   "metadata": {
    "id": "eTww_VP0xCAA"
   },
   "outputs": [],
   "source": []
  },
  {
   "cell_type": "markdown",
   "metadata": {
    "id": "tkJKSNshxF0p"
   },
   "source": [
    "### Q5. Write a Python script to conduct a hypothesis test on the difference between two population means, given a sample from each population."
   ]
  },
  {
   "cell_type": "code",
   "execution_count": 2,
   "metadata": {
    "id": "d88IW-oaxILO"
   },
   "outputs": [],
   "source": [
    "def hypothesis_test(sample_mean_1, sample_mean_2, sample_std_1, sample_std_2, sample_size_1, sample_size_2):\n",
    "  \"\"\"\n",
    "  Conduct a hypothesis test on the difference between two population means.\n",
    "\n",
    "  Args:\n",
    "    sample_mean_1: The mean of the first sample.\n",
    "    sample_mean_2: The mean of the second sample.\n",
    "    sample_std_1: The standard deviation of the first sample.\n",
    "    sample_std_2: The standard deviation of the second sample.\n",
    "    sample_size_1: The size of the first sample.\n",
    "    sample_size_2: The size of the second sample.\n",
    "\n",
    "  Returns:\n",
    "    A tuple of (p-value, decision).\n",
    "  \"\"\"\n",
    "\n",
    "  # Calculate the t-statistic.\n",
    "  t_statistic = (sample_mean_1 - sample_mean_2) / np.sqrt(sample_std_1**2 / sample_size_1 + sample_std_2**2 / sample_size_2)\n",
    "\n",
    "  # Calculate the p-value.\n",
    "  p_value = t.cdf(t_statistic, df=sample_size_1 + sample_size_2 - 2)\n",
    "\n",
    "  # Make a decision.\n",
    "  decision = \"Reject the null hypothesis\" if p_value < 0.05 else \"Do not reject the null hypothesis\"\n",
    "\n",
    "  return p_value, decision\n"
   ]
  },
  {
   "cell_type": "code",
   "execution_count": null,
   "metadata": {
    "id": "PooSDSE3xKdj"
   },
   "outputs": [],
   "source": []
  },
  {
   "cell_type": "markdown",
   "metadata": {
    "id": "QJ2GA-oSyMkd"
   },
   "source": [
    "### Q6: What is a null and alternative hypothesis? Give some examples.\n",
    "\n",
    "A null hypothesis is a statement about a population parameter that we assume to be true unless there is enough evidence to reject it. An alternative hypothesis is a statement that is the opposite of the null hypothesis.\n",
    "\n",
    "Some examples of null and alternative hypotheses are:\n",
    "\n",
    "Null hypothesis: The average weight of male college students is equal to the average weight of female college students.\n",
    "Alternative hypothesis: The average weight of male college students is greater than the average weight of female college students.\n",
    "Null hypothesis: The average price of a gallon of gasoline is $3.00.\n",
    "Alternative hypothesis: The average price of a gallon of gasoline is not $3.00.\n",
    "### Q7: Write down the steps involved in hypothesis testing.\n",
    "\n",
    "The steps involved in hypothesis testing are:\n",
    "\n",
    "State the null and alternative hypotheses.\n",
    "Select a significance level.\n",
    "Calculate the test statistic.\n",
    "Determine the p-value.\n",
    "Make a decision.\n",
    "\n",
    "### Q8. Define p-value and explain its significance in hypothesis testing.\n",
    "\n",
    "The p-value is the probability of getting a test statistic as extreme as the one we observed, assuming that the null hypothesis is true. The p-value is used to determine whether to reject the null hypothesis.\n",
    "\n",
    "A low p-value (typically less than 0.05) means that the probability of getting a test statistic as extreme as the one we observed is very low if the null hypothesis is true. In this case, we would reject the null hypothesis and conclude that the alternative hypothesis is true.\n",
    "\n",
    "A high p-value (typically greater than 0.05) means that the probability of getting a test statistic as extreme as the one we observed is not very low if the null hypothesis is true. In this case, we would not reject the null hypothesis and we cannot conclude that the alternative hypothesis is true."
   ]
  },
  {
   "cell_type": "code",
   "execution_count": null,
   "metadata": {
    "id": "xcZf5--PyVFt"
   },
   "outputs": [],
   "source": []
  },
  {
   "cell_type": "markdown",
   "metadata": {
    "id": "1-eHVnHZyblD"
   },
   "source": [
    "### Q9. Generate a Student's t-distribution plot using Python's matplotlib library, with the degrees of freedom parameter set to 10."
   ]
  },
  {
   "cell_type": "code",
   "execution_count": null,
   "metadata": {
    "id": "X0icFtfmyf0Y"
   },
   "outputs": [],
   "source": [
    "import matplotlib.pyplot as plt\n",
    "import numpy.random as rnd\n",
    "\n",
    "# Set the degrees of freedom.\n",
    "df = 10\n",
    "\n",
    "# Generate a t-distribution.\n",
    "t_distribution = rnd.t(df)\n",
    "\n",
    "# Plot the t-distribution.\n",
    "plt.hist(t_distribution)\n",
    "plt.xlabel(\"t-statistic\")\n",
    "plt.ylabel(\"Frequency\")\n",
    "plt.title(\"Student's t-distribution with df={}\".format(df))\n",
    "plt.show()\n"
   ]
  },
  {
   "cell_type": "markdown",
   "metadata": {
    "id": "3vRwAAILyo79"
   },
   "source": [
    "### Q10. Write a Python program to calculate the two-sample t-test for independent samples, given two random samples of equal size and a null hypothesis that the population means are equal."
   ]
  },
  {
   "cell_type": "code",
   "execution_count": 4,
   "metadata": {
    "colab": {
     "base_uri": "https://localhost:8080/"
    },
    "id": "rKviquQ3yugt",
    "outputId": "6da5fb17-c6a5-4ec7-eca4-03fed371f2d1"
   },
   "outputs": [
    {
     "name": "stdout",
     "output_type": "stream",
     "text": [
      "t-statistic: Ttest_indResult(statistic=0.1333752787572409, pvalue=0.8953764179921657)\n",
      "p-value: 0.8953764179921657\n"
     ]
    }
   ],
   "source": [
    "import numpy as np\n",
    "import scipy.stats as stats\n",
    "\n",
    "# Define the two samples.\n",
    "sample_1 = np.random.randn(10)\n",
    "sample_2 = np.random.randn(10)\n",
    "\n",
    "# Calculate the t-statistic.\n",
    "t_statistic = stats.ttest_ind(sample_1, sample_2)\n",
    "\n",
    "# Calculate the p-value.\n",
    "p_value = t_statistic.pvalue\n",
    "\n",
    "# Print the results.\n",
    "print(\"t-statistic:\", t_statistic)\n",
    "print(\"p-value:\", p_value)\n"
   ]
  },
  {
   "cell_type": "markdown",
   "metadata": {
    "id": "pZGr172PyuDk"
   },
   "source": [
    "\n",
    "\n",
    "### Q11: What is Student’s t distribution? When to use the t-Distribution.\n",
    "\n",
    "Student's t-distribution is a probability distribution that is used when the sample size is small and the population standard deviation is unknown. It is a bell-shaped distribution that is similar to the normal distribution, but it has fatter tails.\n",
    "\n",
    "The t-distribution is used in hypothesis testing when the sample size is small and the population standard deviation is unknown. It is also used to calculate confidence intervals for the population mean when the sample size is small and the population standard deviation is unknown.\n",
    "\n",
    "### Q12: What is t-statistic? State the formula for t-statistic.\n",
    "\n",
    "The t-statistic is a statistical test that is used to compare two sample means. It is calculated by subtracting the two sample means and dividing by the standard error of the difference between the means.\n",
    "\n",
    "The formula for the t-statistic is:\n",
    "\n",
    "```\n",
    "t = (x̄1 - x̄2) / s̄√(n1/n2)\n",
    "```\n",
    "\n",
    "where:\n",
    "\n",
    "* x̄1 is the mean of the first sample\n",
    "* x̄2 is the mean of the second sample\n",
    "* s̄ is the pooled standard deviation of the two samples\n",
    "* n1 is the size of the first sample\n",
    "* n2 is the size of the second sample\n",
    "\n",
    "### Q13. A coffee shop owner wants to estimate the average daily revenue for their shop. They take a random\n",
    "sample of 50 days and find the sample mean revenue to be $500 with a standard deviation of $50.\n",
    "Estimate the population mean revenue with a 95% confidence interval.\n",
    "\n",
    "The 95% confidence interval for the population mean revenue is:\n",
    "\n",
    "```\n",
    "(500 - 1.96 * 50 / √50, 500 + 1.96 * 50 / √50)\n",
    "```\n",
    "\n",
    "```\n",
    "= (470, 530)\n",
    "```\n",
    "\n",
    "We can be 95% confident that the true population mean revenue is between $470 and $530.\n",
    "\n",
    "### Q14. A researcher hypothesizes that a new drug will decrease blood pressure by 10 mmHg. They conduct a\n",
    "clinical trial with 100 patients and find that the sample mean decrease in blood pressure is 8 mmHg with a\n",
    "standard deviation of 3 mmHg. Test the hypothesis with a significance level of 0.05.\n",
    "\n",
    "The null hypothesis is that the new drug does not decrease blood pressure. The alternative hypothesis is that the new drug does decrease blood pressure.\n",
    "\n",
    "The t-statistic for this test is:\n",
    "\n",
    "```\n",
    "t = (8 - 10) / 3 √100\n",
    "```\n",
    "\n",
    "```\n",
    "= -1.11\n",
    "```\n",
    "\n",
    "The p-value for this test is 0.265.\n",
    "\n",
    "Since the p-value is greater than the significance level of 0.05, we cannot reject the null hypothesis. Therefore, there is not enough evidence to conclude that the new drug decreases blood pressure.\n",
    "\n",
    "### Q15. An electronics company produces a certain type of product with a mean weight of 5 pounds and a\n",
    "standard deviation of 0.5 pounds. A random sample of 25 products is taken, and the sample mean weight\n",
    "is found to be 4.8 pounds. Test the hypothesis that the true mean weight of the products is less than 5\n",
    "pounds with a significance level of 0.01.\n",
    "\n",
    "The null hypothesis is that the true mean weight of the products is 5 pounds. The alternative hypothesis is that the true mean weight of the products is less than 5 pounds.\n",
    "\n",
    "The t-statistic for this test is:\n",
    "\n",
    "```\n",
    "t = (4.8 - 5) / 0.5 √25\n",
    "```\n",
    "\n",
    "```\n",
    "= -2.24\n",
    "```\n",
    "\n",
    "The p-value for this test is 0.027.\n",
    "\n",
    "Since the p-value is less than the significance level of 0.01, we can reject the null hypothesis. Therefore, there is enough evidence to conclude that the true mean weight of the products is less than 5 pounds.\n",
    "\n",
    "\n",
    "### Q16. Two groups of students are given different study materials to prepare for a test. The first group (n1 =\n",
    "30) has a mean score of 80 with a standard deviation of 10, and the second group (n2 = 40) has a mean\n",
    "score of 75 with a standard deviation of 8. Test the hypothesis that the population means for the two\n",
    "groups are equal with a significance level of 0.01.\n",
    "\n",
    "The null hypothesis is that the population means for the two groups are equal. The alternative hypothesis is that the population means for the two groups are not equal.\n",
    "\n",
    "The t-statistic for this test is:\n",
    "\n",
    "```\n",
    "t = (80 - 75) / √(10^2/30 + 8^2/40)\n",
    "```\n",
    "\n",
    "```\n",
    "= 2.13\n",
    "```\n",
    "\n",
    "The p-value for this test is 0.034.\n",
    "\n",
    "Since the p-value is less than the significance level of 0.01, we can reject the null hypothesis. Therefore, there is enough evidence to conclude that the population means for the two groups are not equal.\n",
    "\n",
    "### Q17. A marketing company wants to estimate the average number of ads watched by viewers during a TV\n",
    "program. They take a random sample of 50 viewers and find that the sample mean is 4 with a standard\n",
    "deviation of 1.5. Estimate the population mean with a 99% confidence interval.\n",
    "\n",
    "The 99% confidence interval for the population mean is:\n",
    "\n",
    "```\n",
    "(4 - 2.576 * 1.5 / √50, 4 + 2.576 * 1.5 / √50)\n",
    "```\n",
    "\n",
    "```\n",
    "= (3.66, 4.34)\n",
    "```\n",
    "\n",
    "We can be 99% confident that the true population mean number of ads watched by viewers during a TV program is between 3.66 and 4.34.\n",
    "\n"
   ]
  },
  {
   "cell_type": "code",
   "execution_count": null,
   "metadata": {
    "id": "02YrEB87zOib"
   },
   "outputs": [],
   "source": []
  }
 ],
 "metadata": {
  "colab": {
   "provenance": []
  },
  "kernelspec": {
   "display_name": "Python 3 (ipykernel)",
   "language": "python",
   "name": "python3"
  },
  "language_info": {
   "codemirror_mode": {
    "name": "ipython",
    "version": 3
   },
   "file_extension": ".py",
   "mimetype": "text/x-python",
   "name": "python",
   "nbconvert_exporter": "python",
   "pygments_lexer": "ipython3",
   "version": "3.12.2"
  }
 },
 "nbformat": 4,
 "nbformat_minor": 4
}
