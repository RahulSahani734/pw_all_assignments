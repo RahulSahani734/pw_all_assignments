{
 "cells": [
  {
   "cell_type": "markdown",
   "metadata": {
    "id": "Sr48XwSOp9s5"
   },
   "source": [
    "### Q1. Load the \"titanic\" dataset using the load_dataset function of seaborn. Use Plotly express to plot a scatter plot for age and fare columns in the titanic dataset."
   ]
  },
  {
   "cell_type": "code",
   "execution_count": null,
   "metadata": {},
   "outputs": [],
   "source": [
    "import seaborn as sns\n",
    "import plotly.graph_objects as go\n",
    "titanic = sns.load_dataset('titanic')\n",
    "fig = go.Figure()\n",
    "fig.add_trace(go.Scatter(x = titanic.age, y = titanic.fare , mode = 'markers'))\n",
    "fig.show()\n",
    "plt.show()"
   ]
  },
  {
   "cell_type": "markdown",
   "metadata": {
    "id": "7JdfoVRO1CK1"
   },
   "source": [
    "### Q2. Using the tips dataset in the Plotly library, plot a box plot using Plotly express."
   ]
  },
  {
   "cell_type": "code",
   "execution_count": null,
   "metadata": {},
   "outputs": [],
   "source": [
    "import plotly.express as px\n",
    "\n",
    "# Load the tips dataset from Plotly\n",
    "tips_data = px.data.tips()\n",
    "\n",
    "# Create a box plot using Plotly express\n",
    "fig1 = px.box(tips_data, x='day', y='total_bill', title='Box plot of Total Bill by Day')\n",
    "fig1.show()\n",
    "plt.show()"
   ]
  },
  {
   "cell_type": "markdown",
   "metadata": {
    "id": "w5K9ug7c3M5y"
   },
   "source": [
    "### Q3. Using the tips dataset in the Plotly library, Plot a histogram for x= \"sex\" and y=\"total_bill\" column in the tips dataset. Also, use the \"smoker\" column with the pattern_shape parameter and the \"day\" column with the color parameter."
   ]
  },
  {
   "cell_type": "code",
   "execution_count": null,
   "metadata": {},
   "outputs": [],
   "source": [
    "import plotly.express as px\n",
    "\n",
    "# Load the tips dataset from Plotly\n",
    "tips_data = px.data.tips()\n",
    "\n",
    "# Create a histogram using Plotly express\n",
    "fig2 = px.histogram(tips_data, x='sex', y='total_bill', color='day', pattern_shape='smoker',\n",
    "                   title='Histogram of Total Bill by Sex with Smoker Patterns and Day Colors')\n",
    "fig2.show()\n",
    "plt.show()"
   ]
  },
  {
   "cell_type": "markdown",
   "metadata": {
    "id": "4AmvMkmnj2i3"
   },
   "source": [
    "### Q4. Using the iris dataset in the Plotly library, Plot a scatter matrix plot, using the \"species\" column for the color parameter.\n",
    "### Note: Use \"sepal_length\", \"sepal_width\", \"petal_length\", \"petal_width\" columns only with the dimensions parameter."
   ]
  },
  {
   "cell_type": "code",
   "execution_count": null,
   "metadata": {},
   "outputs": [],
   "source": [
    "import plotly.express as px\n",
    "\n",
    "# Load the iris dataset from Plotly\n",
    "iris_data = px.data.iris()\n",
    "\n",
    "# Create a scatter matrix plot using Plotly express\n",
    "fig3 = px.scatter_matrix(iris_data, dimensions=['sepal_width', 'sepal_length', 'petal_width', 'petal_length'],\n",
    "                        color='species', title='Scatter Matrix Plot of Iris Dataset with Species Color')\n",
    "fig3.show()\n",
    "plt.show()\n"
   ]
  },
  {
   "cell_type": "markdown",
   "metadata": {
    "id": "ZaevQsL8kfZl"
   },
   "source": [
    "### Q5. What is Distplot? Using Plotly express, plot a distplot."
   ]
  },
  {
   "cell_type": "markdown",
   "metadata": {
    "id": "L98s4vxqk-1_"
   },
   "source": [
    "In seaborn, the displot function is used to create a flexible and convenient histogram with optional kernel density estimation (KDE) and rug plot. It is a high-level interface for creating distribution plots in seaborn."
   ]
  },
  {
   "cell_type": "code",
   "execution_count": 35,
   "metadata": {
    "colab": {
     "base_uri": "https://localhost:8080/",
     "height": 506
    },
    "id": "hMZO1JGzle9z",
    "outputId": "9029e0f1-52a8-4f8e-91d0-e19e5884cfe3"
   },
   "outputs": [
    {
     "data": {
      "image/png": "[encoded data removed]",
      "text/plain": [
       "<Figure size 500x500 with 1 Axes>"
      ]
     },
     "metadata": {},
     "output_type": "display_data"
    }
   ],
   "source": [
    "import seaborn as sns\n",
    "import matplotlib.pyplot as plt\n",
    "\n",
    "# Load some example data\n",
    "data = [1, 2, 2, 3, 3, 3, 4, 4, 4, 4, 5, 5, 5, 5, 5]\n",
    "\n",
    "# Create a distribution plot using seaborn's displot\n",
    "sns.displot(data, kde=True, rug=True)\n",
    "\n",
    "# Show the plot\n",
    "plt.show()\n"
   ]
  },
  {
   "cell_type": "code",
   "execution_count": 29,
   "metadata": {
    "id": "on7KYOSflrGX"
   },
   "outputs": [],
   "source": []
  }
 ],
 "metadata": {
  "colab": {
   "provenance": []
  },
  "kernelspec": {
   "display_name": "Python 3 (ipykernel)",
   "language": "python",
   "name": "python3"
  },
  "language_info": {
   "codemirror_mode": {
    "name": "ipython",
    "version": 3
   },
   "file_extension": ".py",
   "mimetype": "text/x-python",
   "name": "python",
   "nbconvert_exporter": "python",
   "pygments_lexer": "ipython3",
   "version": "3.12.2"
  }
 },
 "nbformat": 4,
 "nbformat_minor": 4
}
